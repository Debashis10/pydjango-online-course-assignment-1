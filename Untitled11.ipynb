{
  "nbformat": 4,
  "nbformat_minor": 0,
  "metadata": {
    "colab": {
      "name": "Untitled11.ipynb",
      "provenance": [],
      "collapsed_sections": [],
      "authorship_tag": "ABX9TyN2i1kgawyVUVvgZXUAbp3k",
      "include_colab_link": true
    },
    "kernelspec": {
      "name": "python3",
      "display_name": "Python 3"
    }
  },
  "cells": [
    {
      "cell_type": "markdown",
      "metadata": {
        "id": "view-in-github",
        "colab_type": "text"
      },
      "source": [
        "<a href=\"https://colab.research.google.com/github/Debashis10/pydjango-online-course-assignment-1/blob/master/Untitled11.ipynb\" target=\"_parent\"><img src=\"https://colab.research.google.com/assets/colab-badge.svg\" alt=\"Open In Colab\"/></a>"
      ]
    },
    {
      "cell_type": "code",
      "metadata": {
        "id": "_3lQeEWY_qbK",
        "colab_type": "code",
        "colab": {
          "base_uri": "https://localhost:8080/",
          "height": 51
        },
        "outputId": "7f1c75eb-33b4-4627-ac22-9222ab4b20e1"
      },
      "source": [
        "# sum of n integers\n",
        "\n",
        "n=int(input(\"enter the value of n: \"))\n",
        "sum=0\n",
        "for i in range(n+1):\n",
        "  sum=sum+i\n",
        "print(sum)\n"
      ],
      "execution_count": 3,
      "outputs": [
        {
          "output_type": "stream",
          "text": [
            "enter the value of n: 10\n",
            "55\n"
          ],
          "name": "stdout"
        }
      ]
    },
    {
      "cell_type": "code",
      "metadata": {
        "colab_type": "code",
        "outputId": "5c00425c-7762-480c-fe1c-73520bf08f9e",
        "id": "TF6Ui5LAAWnV",
        "colab": {
          "base_uri": "https://localhost:8080/",
          "height": 51
        }
      },
      "source": [
        "# factorial of a number:\n",
        "\n",
        "n=int(input(\"enter the value of n: \"))\n",
        "fact=1\n",
        "for i in range(1,n+1):\n",
        "  fact=fact*i\n",
        "print(fact)\n"
      ],
      "execution_count": 5,
      "outputs": [
        {
          "output_type": "stream",
          "text": [
            "enter the value of n: 5\n",
            "120\n"
          ],
          "name": "stdout"
        }
      ]
    },
    {
      "cell_type": "code",
      "metadata": {
        "colab_type": "code",
        "outputId": "053a181d-9642-436c-8486-87b21330a6f2",
        "id": "-mjPE3n7AXfc",
        "colab": {
          "base_uri": "https://localhost:8080/",
          "height": 119
        }
      },
      "source": [
        "# printing the pattern (a):\n",
        "\n",
        "n=int(input())\n",
        "for i in range(n+1):\n",
        "  for j in range(i):\n",
        "    print(\"*\",end=\"\")\n",
        "  print()\n"
      ],
      "execution_count": 7,
      "outputs": [
        {
          "output_type": "stream",
          "text": [
            "4\n",
            "\n",
            "*\n",
            "**\n",
            "***\n",
            "****\n"
          ],
          "name": "stdout"
        }
      ]
    },
    {
      "cell_type": "code",
      "metadata": {
        "colab_type": "code",
        "outputId": "d2ba6d51-93bb-465e-917f-dc84302da0f7",
        "id": "79Nk8BuKAXu8",
        "colab": {
          "base_uri": "https://localhost:8080/",
          "height": 119
        }
      },
      "source": [
        "# printing the pattern (b):\n",
        "\n",
        "n=int(input())\n",
        "m=(n+1)//2\n",
        "for i in range(1,n+1):\n",
        "  print(\" \"*int(abs(m-i))+\"*\"*(2*(m-abs(m-i))-1))"
      ],
      "execution_count": 10,
      "outputs": [
        {
          "output_type": "stream",
          "text": [
            "5\n",
            "  *\n",
            " ***\n",
            "*****\n",
            " ***\n",
            "  *\n"
          ],
          "name": "stdout"
        }
      ]
    },
    {
      "cell_type": "code",
      "metadata": {
        "colab_type": "code",
        "outputId": "c545d02e-9982-4861-f0da-6a2364147bf6",
        "id": "Uo_wB3qeAX-E",
        "colab": {
          "base_uri": "https://localhost:8080/",
          "height": 102
        }
      },
      "source": [
        "# printing the pattern c\n",
        "\n",
        "n=int(input())\n",
        "for i in range(n):\n",
        "  j=n-i\n",
        "  sum=0\n",
        "  for j in range(j):\n",
        "    sum+=2**(2*j)\n",
        "  print(\" \"*i+bin(sum).lstrip(\"Ob\"))"
      ],
      "execution_count": 16,
      "outputs": [
        {
          "output_type": "stream",
          "text": [
            "4\n",
            "0b1010101\n",
            " 0b10101\n",
            "  0b101\n",
            "   0b1\n"
          ],
          "name": "stdout"
        }
      ]
    },
    {
      "cell_type": "code",
      "metadata": {
        "colab_type": "code",
        "outputId": "25e9db5c-f858-4a14-9fac-6001818a5e5b",
        "id": "jbzqkTT_AYLc",
        "colab": {
          "base_uri": "https://localhost:8080/",
          "height": 136
        }
      },
      "source": [
        "# printing the vowels of a string:\n",
        "\n",
        "n=input(\"enter the string: \")\n",
        "for i in n:\n",
        "  if(i=='A' or i=='E' or i=='I' or i=='O' or i=='U' or i=='a' or i=='e' or i=='i'or i=='u'):\n",
        "    print(i)\n",
        "\n"
      ],
      "execution_count": 17,
      "outputs": [
        {
          "output_type": "stream",
          "text": [
            "enter the string: Debashis Behera\n",
            "e\n",
            "a\n",
            "i\n",
            "e\n",
            "e\n",
            "a\n"
          ],
          "name": "stdout"
        }
      ]
    },
    {
      "cell_type": "code",
      "metadata": {
        "colab_type": "code",
        "outputId": "c35bad59-f434-43a9-8bc2-39804035daf4",
        "id": "bcm8wGU4AYYM",
        "colab": {
          "base_uri": "https://localhost:8080/",
          "height": 34
        }
      },
      "source": [
        "# sorting \n",
        "\n",
        "Li=[[\"John\",34],[\"Arnab\",21],[\"rahul\",20],[\"Amam\",25]]\n",
        "print(sorted(Li,key=lambda x:x[1]))\n"
      ],
      "execution_count": 18,
      "outputs": [
        {
          "output_type": "stream",
          "text": [
            "[['rahul', 20], ['Arnab', 21], ['Amam', 25], ['John', 34]]\n"
          ],
          "name": "stdout"
        }
      ]
    }
  ]
}